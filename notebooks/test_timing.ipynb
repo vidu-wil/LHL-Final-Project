{
 "cells": [
  {
   "cell_type": "markdown",
   "metadata": {},
   "source": [
    "# Testing timing of the traffic light"
   ]
  },
  {
   "cell_type": "markdown",
   "metadata": {},
   "source": [
    "#### Import Modules"
   ]
  },
  {
   "cell_type": "code",
   "execution_count": 11,
   "metadata": {},
   "outputs": [],
   "source": [
    "import pandas as pd\n",
    "from datetime import datetime"
   ]
  },
  {
   "cell_type": "markdown",
   "metadata": {},
   "source": [
    "#### Read the prediction files"
   ]
  },
  {
   "cell_type": "code",
   "execution_count": 3,
   "metadata": {},
   "outputs": [],
   "source": [
    "df1 = pd.read_csv(\"../output/output_junc1.csv\")\n",
    "df2 = pd.read_csv(\"../output/output_junc2.csv\")\n",
    "df3 = pd.read_csv(\"../output/output_junc3.csv\")\n",
    "df4 = pd.read_csv(\"../output/output_junc4.csv\")"
   ]
  },
  {
   "cell_type": "markdown",
   "metadata": {},
   "source": [
    "#### Get minimum and maximum number of vehicles for each junction"
   ]
  },
  {
   "cell_type": "code",
   "execution_count": 8,
   "metadata": {},
   "outputs": [
    {
     "name": "stdout",
     "output_type": "stream",
     "text": [
      "Junction 1 max: 106.0\n",
      "Junction 1 min: 7.0\n",
      "Junction 2 max: 26.0\n",
      "Junction 2 min: 1.0\n",
      "Junction 3 max: 111.0\n",
      "Junction 3 min: 2.0\n",
      "Junction 4 max: 30.0\n",
      "Junction 4 min: 1.0\n"
     ]
    }
   ],
   "source": [
    "print(f\"Junction 1 max: {df1['Vehicles'].max()}\")\n",
    "print(f\"Junction 1 min: {df1['Vehicles'].min()}\")\n",
    "print(f\"Junction 2 max: {df2['Vehicles'].max()}\")\n",
    "print(f\"Junction 2 min: {df2['Vehicles'].min()}\")\n",
    "print(f\"Junction 3 max: {df3['Vehicles'].max()}\")\n",
    "print(f\"Junction 3 min: {df3['Vehicles'].min()}\")\n",
    "print(f\"Junction 4 max: {df4['Vehicles'].max()}\")\n",
    "print(f\"Junction 4 min: {df4['Vehicles'].min()}\")"
   ]
  },
  {
   "cell_type": "markdown",
   "metadata": {},
   "source": [
    "##### Get current time"
   ]
  },
  {
   "cell_type": "code",
   "execution_count": 34,
   "metadata": {},
   "outputs": [],
   "source": [
    "now = datetime.now()"
   ]
  },
  {
   "cell_type": "code",
   "execution_count": 46,
   "metadata": {},
   "outputs": [],
   "source": [
    "Hour = int(now.strftime(\"%H\"))\n",
    "Day = int(now.strftime(\"%d\"))\n",
    "Year = int(now.strftime(\"%Y\"))\n",
    "Month = int(now.strftime(\"%m\"))"
   ]
  },
  {
   "cell_type": "markdown",
   "metadata": {},
   "source": [
    "##### Set Timing according to the predictions"
   ]
  },
  {
   "cell_type": "code",
   "execution_count": 55,
   "metadata": {},
   "outputs": [],
   "source": [
    "number_of_vehicles = df.loc[(df1['Hour']== Hour) & (df1['Day']==Day) &\n",
    "           (df1['Year']==Year) & (df1['Month']==Month)]['Vehicles'].values[0]\n",
    "\n",
    "if number_of_vehicles < 30:\n",
    "    greenLight_NS = 60\n",
    "    yellowLight_NS = 2\n",
    "    redLight_NS = 62\n",
    "\n",
    "    greenLight_WE = 60\n",
    "    yellowLight_WE = 2\n",
    "    redLight_WE = 62\n",
    "\n",
    "elif (number_of_vehicles < 31) and (number_of_vehicles > 61):\n",
    "    greenLight_NS = 45\n",
    "    yellowLight_NS = 2\n",
    "    redLight_NS = 47\n",
    "\n",
    "    greenLight_WE = 45\n",
    "    yellowLight_WE = 2\n",
    "    redLight_WE = 47\n",
    "    \n",
    "else:\n",
    "    greenLight_NS = 30\n",
    "    yellowLight_NS = 2\n",
    "    redLight_NS = 32\n",
    "\n",
    "    greenLight_WE = 30\n",
    "    yellowLight_WE = 2\n",
    "    redLight_WE = 32"
   ]
  }
 ],
 "metadata": {
  "kernelspec": {
   "display_name": "Python 3",
   "language": "python",
   "name": "python3"
  },
  "language_info": {
   "codemirror_mode": {
    "name": "ipython",
    "version": 3
   },
   "file_extension": ".py",
   "mimetype": "text/x-python",
   "name": "python",
   "nbconvert_exporter": "python",
   "pygments_lexer": "ipython3",
   "version": "3.10.11"
  },
  "orig_nbformat": 4
 },
 "nbformat": 4,
 "nbformat_minor": 2
}
